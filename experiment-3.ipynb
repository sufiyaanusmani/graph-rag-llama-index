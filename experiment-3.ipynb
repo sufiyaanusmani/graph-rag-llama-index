{
 "cells": [
  {
   "cell_type": "markdown",
   "metadata": {},
   "source": [
    "# GraphRAG Implementation with LlamaIndex - Experiment 3\n",
    "\n",
    "[GraphRAG - LlamaIndex](https://docs.llamaindex.ai/en/stable/examples/cookbooks/GraphRAG_v2/)"
   ]
  },
  {
   "cell_type": "markdown",
   "metadata": {},
   "source": [
    "# Setting up the environment"
   ]
  },
  {
   "cell_type": "code",
   "execution_count": 1,
   "metadata": {},
   "outputs": [],
   "source": [
    "from llama_index.graph_stores.neo4j import Neo4jPGStore\n",
    "\n",
    "username=\"neo4j\"\n",
    "password=\"admin123\"\n",
    "url=\"bolt://localhost:7687\"\n",
    "\n",
    "graph_store = Neo4jPGStore(\n",
    "    username=username,\n",
    "    password=password,\n",
    "    url=url,\n",
    ")"
   ]
  },
  {
   "cell_type": "code",
   "execution_count": 2,
   "metadata": {},
   "outputs": [],
   "source": [
    "import os\n",
    "from config import Config\n",
    "\n",
    "os.environ[\"OPENAI_API_KEY\"] = Config.OPENAI_API_KEY"
   ]
  },
  {
   "cell_type": "code",
   "execution_count": 9,
   "metadata": {},
   "outputs": [],
   "source": [
    "from llama_index.embeddings.openai import OpenAIEmbedding\n",
    "from llama_index.llms.openai import OpenAI\n",
    "\n",
    "llm = OpenAI(model=\"gpt-4o\")\n",
    "embed_model = OpenAIEmbedding(model_name=\"text-embedding-3-small\")"
   ]
  },
  {
   "cell_type": "markdown",
   "metadata": {},
   "source": [
    "# Loading Documents"
   ]
  },
  {
   "cell_type": "code",
   "execution_count": 4,
   "metadata": {},
   "outputs": [
    {
     "name": "stdout",
     "output_type": "stream",
     "text": [
      "Loaded 7 documents\n"
     ]
    }
   ],
   "source": [
    "from loader import load_epubs_from_dir\n",
    "\n",
    "documents = load_epubs_from_dir(\"./data\")\n",
    "print(f\"Loaded {len(documents)} documents\")"
   ]
  },
  {
   "cell_type": "code",
   "execution_count": 5,
   "metadata": {},
   "outputs": [],
   "source": [
    "from llama_index.core import Document\n",
    "\n",
    "new_documents = []\n",
    "for document in documents:\n",
    "    new_documents.append(Document(text=document.text)) # Convert to Document object"
   ]
  },
  {
   "cell_type": "markdown",
   "metadata": {},
   "source": [
    "# Splitting"
   ]
  },
  {
   "cell_type": "code",
   "execution_count": 6,
   "metadata": {},
   "outputs": [
    {
     "name": "stdout",
     "output_type": "stream",
     "text": [
      "Total number of nodes: 542\n"
     ]
    }
   ],
   "source": [
    "from llama_index.core.node_parser import SentenceSplitter\n",
    "\n",
    "splitter = SentenceSplitter(\n",
    "    chunk_size=1024,\n",
    "    chunk_overlap=20,\n",
    ")\n",
    "nodes = splitter.get_nodes_from_documents(documents)\n",
    "print(f\"Total number of nodes: {len(nodes)}\")"
   ]
  },
  {
   "cell_type": "markdown",
   "metadata": {},
   "source": [
    "# Building Knowledge Graph"
   ]
  },
  {
   "cell_type": "code",
   "execution_count": 7,
   "metadata": {},
   "outputs": [],
   "source": [
    "KG_TRIPLET_EXTRACT_TMPL = \"\"\"\n",
    "-Goal-\n",
    "Given a text document, identify all entities and their entity types from the text and all relationships among the identified entities.\n",
    "Given the text, extract up to {max_knowledge_triplets} entity-relation triplets.\n",
    "\n",
    "-Steps-\n",
    "1. Identify all entities. For each identified entity, extract the following information:\n",
    "- entity_name: Name of the entity, capitalized\n",
    "- entity_type: Type of the entity\n",
    "- entity_description: Comprehensive description of the entity's attributes and activities\n",
    "Format each entity as (\"entity\"$$$$\"\"$$$$\"\"$$$$\"\")\n",
    "\n",
    "2. From the entities identified in step 1, identify all pairs of (source_entity, target_entity) that are *clearly related* to each other.\n",
    "For each pair of related entities, extract the following information:\n",
    "- source_entity: name of the source entity, as identified in step 1\n",
    "- target_entity: name of the target entity, as identified in step 1\n",
    "- relation: relationship between source_entity and target_entity\n",
    "- relationship_description: explanation as to why you think the source entity and the target entity are related to each other\n",
    "\n",
    "Format each relationship as (\"relationship\"$$$$\"\"$$$$\"\"$$$$\"\"$$$$\"\")\n",
    "\n",
    "3. When finished, output.\n",
    "\n",
    "-Real Data-\n",
    "######################\n",
    "text: {text}\n",
    "######################\n",
    "output:\"\"\""
   ]
  },
  {
   "cell_type": "code",
   "execution_count": 10,
   "metadata": {},
   "outputs": [],
   "source": [
    "import re\n",
    "from graph_rag_extractor import GraphRAGExtractor\n",
    "from typing import Any\n",
    "\n",
    "entity_pattern = r'\\(\"entity\"\\$\\$\\$\\$\"(.+?)\"\\$\\$\\$\\$\"(.+?)\"\\$\\$\\$\\$\"(.+?)\"\\)'\n",
    "relationship_pattern = r'\\(\"relationship\"\\$\\$\\$\\$\"(.+?)\"\\$\\$\\$\\$\"(.+?)\"\\$\\$\\$\\$\"(.+?)\"\\$\\$\\$\\$\"(.+?)\"\\)'\n",
    "\n",
    "\n",
    "def parse_fn(response_str: str) -> Any:\n",
    "    entities = re.findall(entity_pattern, response_str)\n",
    "    relationships = re.findall(relationship_pattern, response_str)\n",
    "    return entities, relationships\n",
    "\n",
    "\n",
    "kg_extractor = GraphRAGExtractor(\n",
    "    llm=llm,\n",
    "    extract_prompt=KG_TRIPLET_EXTRACT_TMPL,\n",
    "    max_paths_per_chunk=2,\n",
    "    parse_fn=parse_fn,\n",
    ")"
   ]
  },
  {
   "cell_type": "code",
   "execution_count": 11,
   "metadata": {},
   "outputs": [
    {
     "name": "stderr",
     "output_type": "stream",
     "text": [
      "Extracting paths from text: 100%|██████████| 542/542 [16:06<00:00,  1.78s/it]\n",
      "Generating embeddings: 100%|██████████| 6/6 [00:05<00:00,  1.16it/s]\n",
      "Generating embeddings: 100%|██████████| 10/10 [00:04<00:00,  2.46it/s]\n"
     ]
    }
   ],
   "source": [
    "from llama_index.core import PropertyGraphIndex\n",
    "\n",
    "index = PropertyGraphIndex(\n",
    "    nodes=nodes,\n",
    "    kg_extractors=[kg_extractor],\n",
    "    property_graph_store=graph_store,\n",
    "    llm=llm,\n",
    "    embed_model=embed_model,\n",
    "    show_progress=True,\n",
    ")"
   ]
  },
  {
   "cell_type": "markdown",
   "metadata": {},
   "source": [
    "# Entity Deduplication"
   ]
  },
  {
   "cell_type": "code",
   "execution_count": 12,
   "metadata": {},
   "outputs": [
    {
     "data": {
      "text/plain": [
       "[]"
      ]
     },
     "execution_count": 12,
     "metadata": {},
     "output_type": "execute_result"
    }
   ],
   "source": [
    "graph_store.structured_query(\"\"\"\n",
    "CREATE VECTOR INDEX entity IF NOT EXISTS\n",
    "FOR (m:`__Entity__`)\n",
    "ON m.embedding\n",
    "OPTIONS {indexConfig: {\n",
    " `vector.dimensions`: 1536,\n",
    " `vector.similarity_function`: 'cosine'\n",
    "}}\n",
    "\"\"\")"
   ]
  },
  {
   "cell_type": "code",
   "execution_count": 13,
   "metadata": {},
   "outputs": [
    {
     "name": "stdout",
     "output_type": "stream",
     "text": [
      "{'combinedResult': ['Holy Qur’an', 'The Qur’an']}\n",
      "{'combinedResult': [\"GLORIOUS QUR'AN\", \"Glorious Qur'an\"]}\n",
      "{'combinedResult': ['Prophet', 'Prophet (S)', 'Prophet (SA)', 'Prophet Jesus', 'THE PROPHET', 'The Most Noble Prophet', 'The Prophet (S)']}\n",
      "{'combinedResult': ['Philosophia', 'Philosophy']}\n",
      "{'combinedResult': ['Shaykh Shihab ad-Din Suhravardi', 'Suhravardi']}\n",
      "{'combinedResult': ['Ahl al-Bayt (a) World Assembly', 'Ahl al-Bayt World Assembly']}\n",
      "{'combinedResult': ['Imam Al-Sadiq', 'Imam al-Sadiq']}\n",
      "{'combinedResult': ['Imam Mahdi', 'Imam al-Mahdi']}\n",
      "{'combinedResult': ['Imam of the Age', \"Imam of the Age ('atfs)\"]}\n",
      "{'combinedResult': ['Imam Husayn', 'Imam al-Husayn']}\n",
      "{'combinedResult': ['Imams', \"Imams ('a)\"]}\n",
      "{'combinedResult': ['Imam Zayn al-‘Abidin', 'Imam Zayn al-‘Abidin (_‘a_)']}\n",
      "{'combinedResult': [\"'Abd al-Rahman ibn Muljim\", 'Ibn Muljim']}\n",
      "{'combinedResult': ['IMAM ALI', 'Imam']}\n",
      "{'combinedResult': ['Self-Knowledge', 'Self-Knowledge, Second Edition']}\n",
      "{'combinedResult': ['HEAVEN', 'HELL']}\n",
      "{'combinedResult': ['ALLAH (SWT)', 'Allah (SWT)']}\n",
      "{'combinedResult': [\"Mu'awiyah\", \"Mu'awiyyah\"]}\n",
      "{'combinedResult': ['Holy Quran', 'Quran']}\n",
      "{'combinedResult': ['Hurr', 'Hurr ibn Yazid Riahi']}\n"
     ]
    }
   ],
   "source": [
    "# Just for inspection\n",
    "similarity_threshold = 0.9\n",
    "word_edit_distance = 5\n",
    "data = graph_store.structured_query(\"\"\"\n",
    "MATCH (e:__Entity__)\n",
    "CALL {\n",
    "  WITH e\n",
    "  CALL db.index.vector.queryNodes('entity', 10, e.embedding)\n",
    "  YIELD node, score\n",
    "  WITH node, score\n",
    "  WHERE score > toFLoat($cutoff)\n",
    "      AND (toLower(node.name) CONTAINS toLower(e.name) OR toLower(e.name) CONTAINS toLower(node.name)\n",
    "           OR apoc.text.distance(toLower(node.name), toLower(e.name)) < $distance)\n",
    "      AND labels(e) = labels(node)\n",
    "  WITH node, score\n",
    "  ORDER BY node.name\n",
    "  RETURN collect(node) AS nodes\n",
    "}\n",
    "WITH distinct nodes\n",
    "WHERE size(nodes) > 1\n",
    "WITH collect([n in nodes | n.name]) AS results\n",
    "UNWIND range(0, size(results)-1, 1) as index\n",
    "WITH results, index, results[index] as result\n",
    "WITH apoc.coll.sort(reduce(acc = result, index2 IN range(0, size(results)-1, 1) |\n",
    "        CASE WHEN index <> index2 AND\n",
    "            size(apoc.coll.intersection(acc, results[index2])) > 0\n",
    "            THEN apoc.coll.union(acc, results[index2])\n",
    "            ELSE acc\n",
    "        END\n",
    ")) as combinedResult\n",
    "WITH distinct(combinedResult) as combinedResult\n",
    "// extra filtering\n",
    "WITH collect(combinedResult) as allCombinedResults\n",
    "UNWIND range(0, size(allCombinedResults)-1, 1) as combinedResultIndex\n",
    "WITH allCombinedResults[combinedResultIndex] as combinedResult, combinedResultIndex, allCombinedResults\n",
    "WHERE NOT any(x IN range(0,size(allCombinedResults)-1,1)\n",
    "    WHERE x <> combinedResultIndex\n",
    "    AND apoc.coll.containsAll(allCombinedResults[x], combinedResult)\n",
    ")\n",
    "RETURN combinedResult\n",
    "\"\"\", param_map={'cutoff': similarity_threshold, 'distance': word_edit_distance})\n",
    "for row in data:\n",
    "    print(row)"
   ]
  },
  {
   "cell_type": "code",
   "execution_count": 14,
   "metadata": {},
   "outputs": [
    {
     "data": {
      "text/plain": [
       "[{'count(*)': 20}]"
      ]
     },
     "execution_count": 14,
     "metadata": {},
     "output_type": "execute_result"
    }
   ],
   "source": [
    "graph_store.structured_query(\"\"\"\n",
    "MATCH (e:__Entity__)\n",
    "CALL {\n",
    "  WITH e\n",
    "  CALL db.index.vector.queryNodes('entity', 10, e.embedding)\n",
    "  YIELD node, score\n",
    "  WITH node, score\n",
    "  WHERE score > toFLoat($cutoff)\n",
    "      AND (toLower(node.name) CONTAINS toLower(e.name) OR toLower(e.name) CONTAINS toLower(node.name)\n",
    "           OR apoc.text.distance(toLower(node.name), toLower(e.name)) < $distance)\n",
    "      AND labels(e) = labels(node)\n",
    "  WITH node, score\n",
    "  ORDER BY node.name\n",
    "  RETURN collect(node) AS nodes\n",
    "}\n",
    "WITH distinct nodes\n",
    "WHERE size(nodes) > 1\n",
    "WITH collect([n in nodes | n.name]) AS results\n",
    "UNWIND range(0, size(results)-1, 1) as index\n",
    "WITH results, index, results[index] as result\n",
    "WITH apoc.coll.sort(reduce(acc = result, index2 IN range(0, size(results)-1, 1) |\n",
    "        CASE WHEN index <> index2 AND\n",
    "            size(apoc.coll.intersection(acc, results[index2])) > 0\n",
    "            THEN apoc.coll.union(acc, results[index2])\n",
    "            ELSE acc\n",
    "        END\n",
    ")) as combinedResult\n",
    "WITH distinct(combinedResult) as combinedResult\n",
    "// extra filtering\n",
    "WITH collect(combinedResult) as allCombinedResults\n",
    "UNWIND range(0, size(allCombinedResults)-1, 1) as combinedResultIndex\n",
    "WITH allCombinedResults[combinedResultIndex] as combinedResult, combinedResultIndex, allCombinedResults\n",
    "WHERE NOT any(x IN range(0,size(allCombinedResults)-1,1)\n",
    "    WHERE x <> combinedResultIndex\n",
    "    AND apoc.coll.containsAll(allCombinedResults[x], combinedResult)\n",
    ")\n",
    "CALL {\n",
    "  WITH combinedResult\n",
    "\tUNWIND combinedResult AS name\n",
    "\tMATCH (e:__Entity__ {name:name})\n",
    "\tWITH e\n",
    "\tORDER BY size(e.name) DESC // prefer longer names to remain after merging\n",
    "\tRETURN collect(e) AS nodes\n",
    "}\n",
    "CALL apoc.refactor.mergeNodes(nodes, {properties: {\n",
    "    `.*`: 'discard'\n",
    "}})\n",
    "YIELD node\n",
    "RETURN count(*)\n",
    "\"\"\", param_map={'cutoff': similarity_threshold, 'distance': word_edit_distance})"
   ]
  },
  {
   "cell_type": "code",
   "execution_count": 29,
   "metadata": {},
   "outputs": [],
   "source": [
    "# Running it again\n",
    "similarity_threshold = 0.9\n",
    "word_edit_distance = 5\n",
    "data = graph_store.structured_query(\"\"\"\n",
    "MATCH (e:__Entity__)\n",
    "CALL {\n",
    "  WITH e\n",
    "  CALL db.index.vector.queryNodes('entity', 10, e.embedding)\n",
    "  YIELD node, score\n",
    "  WITH node, score\n",
    "  WHERE score > toFLoat($cutoff)\n",
    "      AND (toLower(node.name) CONTAINS toLower(e.name) OR toLower(e.name) CONTAINS toLower(node.name)\n",
    "           OR apoc.text.distance(toLower(node.name), toLower(e.name)) < $distance)\n",
    "      AND labels(e) = labels(node)\n",
    "  WITH node, score\n",
    "  ORDER BY node.name\n",
    "  RETURN collect(node) AS nodes\n",
    "}\n",
    "WITH distinct nodes\n",
    "WHERE size(nodes) > 1\n",
    "WITH collect([n in nodes | n.name]) AS results\n",
    "UNWIND range(0, size(results)-1, 1) as index\n",
    "WITH results, index, results[index] as result\n",
    "WITH apoc.coll.sort(reduce(acc = result, index2 IN range(0, size(results)-1, 1) |\n",
    "        CASE WHEN index <> index2 AND\n",
    "            size(apoc.coll.intersection(acc, results[index2])) > 0\n",
    "            THEN apoc.coll.union(acc, results[index2])\n",
    "            ELSE acc\n",
    "        END\n",
    ")) as combinedResult\n",
    "WITH distinct(combinedResult) as combinedResult\n",
    "// extra filtering\n",
    "WITH collect(combinedResult) as allCombinedResults\n",
    "UNWIND range(0, size(allCombinedResults)-1, 1) as combinedResultIndex\n",
    "WITH allCombinedResults[combinedResultIndex] as combinedResult, combinedResultIndex, allCombinedResults\n",
    "WHERE NOT any(x IN range(0,size(allCombinedResults)-1,1)\n",
    "    WHERE x <> combinedResultIndex\n",
    "    AND apoc.coll.containsAll(allCombinedResults[x], combinedResult)\n",
    ")\n",
    "RETURN combinedResult\n",
    "\"\"\", param_map={'cutoff': similarity_threshold, 'distance': word_edit_distance})\n",
    "for row in data:\n",
    "    print(row)"
   ]
  },
  {
   "cell_type": "markdown",
   "metadata": {},
   "source": [
    "As above query returned nothing, we can conclude that there are no duplicate entities in the dataset."
   ]
  },
  {
   "cell_type": "markdown",
   "metadata": {},
   "source": [
    "# Create QueryEngine"
   ]
  },
  {
   "cell_type": "code",
   "execution_count": 17,
   "metadata": {},
   "outputs": [],
   "source": [
    "from graph_rag_store import GraphRAGStore\n",
    "\n",
    "# Note: used to be `Neo4jPGStore`\n",
    "graph_store_reader = GraphRAGStore(\n",
    "    username=\"neo4j\", password=\"admin123\", url=\"bolt://localhost:7687\"\n",
    ")"
   ]
  },
  {
   "cell_type": "code",
   "execution_count": 18,
   "metadata": {},
   "outputs": [],
   "source": [
    "from llama_index.core import PropertyGraphIndex\n",
    "\n",
    "# This is used to create a new index from an existing one which is useful for creating multiple indices with different configurations\n",
    "index_2 = PropertyGraphIndex.from_existing(\n",
    "    property_graph_store=graph_store_reader,\n",
    "    llm=llm,\n",
    "    embed_model=embed_model,\n",
    "    show_progress=True,\n",
    ")"
   ]
  },
  {
   "cell_type": "markdown",
   "metadata": {},
   "source": [
    "# Build Communities"
   ]
  },
  {
   "cell_type": "code",
   "execution_count": 20,
   "metadata": {},
   "outputs": [],
   "source": [
    "index_2.property_graph_store.build_communities()"
   ]
  },
  {
   "cell_type": "markdown",
   "metadata": {},
   "source": [
    "# Create Query Engine"
   ]
  },
  {
   "cell_type": "code",
   "execution_count": 21,
   "metadata": {},
   "outputs": [],
   "source": [
    "from graph_query_engine import GraphRAGQueryEngine\n",
    "\n",
    "query_engine = GraphRAGQueryEngine(\n",
    "    graph_store=index_2.property_graph_store,\n",
    "    llm=llm,\n",
    "    embed_model=embed_model,\n",
    "    index=index_2,\n",
    "    similarity_top_k=5,\n",
    ")"
   ]
  },
  {
   "cell_type": "markdown",
   "metadata": {},
   "source": [
    "# Querying"
   ]
  },
  {
   "cell_type": "code",
   "execution_count": 22,
   "metadata": {},
   "outputs": [],
   "source": [
    "from IPython.display import Markdown"
   ]
  },
  {
   "cell_type": "code",
   "execution_count": 23,
   "metadata": {},
   "outputs": [
    {
     "data": {
      "text/markdown": [
       "The community summary highlights various Islamic beliefs and philosophical perspectives that indirectly support the existence of God, though it does not explicitly present scholarly arguments. Key arguments often discussed in Islamic theology and broader philosophical discourse include:\n",
       "\n",
       "1. **Cosmological Argument**: This posits that everything that exists has a cause, and the universe's existence points to an uncaused cause, identified as God.\n",
       "\n",
       "2. **Teleological Argument (Design Argument)**: The complexity and order in the universe suggest a purposeful design, implying an intelligent designer, God.\n",
       "\n",
       "3. **Ontological Argument**: This philosophical argument asserts that the concept of a perfect being (God) necessitates existence, as existence is a requisite of perfection.\n",
       "\n",
       "4. **Moral Argument**: The existence of objective moral values is best explained by a moral lawgiver, which is God.\n",
       "\n",
       "5. **Experiential Argument**: Personal experiences of the divine are cited as evidence of God's existence.\n",
       "\n",
       "These arguments, while rooted in Islamic thought, are part of broader philosophical discussions and are used to rationalize belief in God. The summary emphasizes the role of divine revelation, spiritual fulfillment, and the pursuit of knowledge in understanding God's existence within Islam."
      ],
      "text/plain": [
       "<IPython.core.display.Markdown object>"
      ]
     },
     "metadata": {},
     "output_type": "display_data"
    }
   ],
   "source": [
    "response = query_engine.query(\n",
    "    \"What are scholarly arguments that prove god's existence?\"\n",
    ")\n",
    "display(Markdown(f\"{response.response}\"))"
   ]
  },
  {
   "cell_type": "code",
   "execution_count": 24,
   "metadata": {},
   "outputs": [
    {
     "data": {
      "text/markdown": [
       "The community summary does not directly address fallacious arguments used to prove God's existence, focusing instead on themes of divine guidance and spiritual relationships. However, common fallacies often critiqued in philosophical discussions about God's existence include:\n",
       "\n",
       "1. **Argument from Ignorance (Ad Ignorantiam)**: Claiming something is true simply because it hasn't been proven false, such as asserting God's existence because it hasn't been disproven.\n",
       "\n",
       "2. **Circular Reasoning (Begging the Question)**: Assuming the conclusion within the premises, like stating \"God exists because the Bible says so, and the Bible is true because it is the word of God.\"\n",
       "\n",
       "3. **Appeal to Authority (Argumentum ad Verecundiam)**: Relying on authority figures or texts as evidence without further justification, such as claiming God's existence based solely on religious leaders' assertions.\n",
       "\n",
       "4. **False Dichotomy (False Dilemma)**: Presenting two options as the only possibilities when others exist, such as claiming either God exists or life has no meaning.\n",
       "\n",
       "5. **Straw Man Argument**: Misrepresenting an opponent's position to make it easier to attack, like oversimplifying atheistic arguments.\n",
       "\n",
       "6. **Appeal to Emotion**: Using emotional appeals rather than logical reasoning, such as arguing that God must exist because a godless universe is frightening.\n",
       "\n",
       "These fallacies highlight the importance of sound reasoning and evidence in discussions about the existence of God."
      ],
      "text/plain": [
       "<IPython.core.display.Markdown object>"
      ]
     },
     "metadata": {},
     "output_type": "display_data"
    }
   ],
   "source": [
    "response = query_engine.query(\n",
    "    \"What are some fallacious arguments given to prove god's existence? Explain the fallacies\"\n",
    ")\n",
    "display(Markdown(f\"{response.response}\"))"
   ]
  },
  {
   "cell_type": "code",
   "execution_count": 25,
   "metadata": {},
   "outputs": [
    {
     "data": {
      "text/markdown": [
       "To deepen your spiritual connection with Allah beyond obligatory actions, consider these ten practices:\n",
       "\n",
       "1. **Engage in Dhikr:** Regularly recite and reflect on Allah's names and attributes to strengthen your spiritual bond.\n",
       "2. **Study the Qur'an:** Dedicate time to understanding and reflecting on its teachings and messages.\n",
       "3. **Seek Knowledge:** Pursue religious and spiritual learning to deepen your faith.\n",
       "4. **Practice Gratitude:** Regularly express gratitude for Allah's blessings, fostering a humble mindset.\n",
       "5. **Perform Voluntary Fasting:** Engage in fasting outside of Ramadan to cultivate self-discipline.\n",
       "6. **Give Charity:** Regularly help those in need, fostering compassion and fulfilling Islamic teachings.\n",
       "7. **Engage in Night Prayers:** Perform additional prayers like Tahajjud to seek closeness to Allah.\n",
       "8. **Reflect on Creation:** Contemplate the beauty of Allah’s creation to enhance your appreciation and connection.\n",
       "9. **Make Dua:** Communicate with Allah through personal prayers, sharing your hopes and gratitude.\n",
       "10. **Serve Others:** Engage in acts of kindness and service, embodying prophetic teachings and fostering community.\n",
       "\n",
       "These actions can enhance your spiritual growth and bring you closer to Allah."
      ],
      "text/plain": [
       "<IPython.core.display.Markdown object>"
      ]
     },
     "metadata": {},
     "output_type": "display_data"
    }
   ],
   "source": [
    "response = query_engine.query(\n",
    "    \"List ten actions I can perform to get closer to Allah?  Do not include the basic wajib actions\"\n",
    ")\n",
    "display(Markdown(f\"{response.response}\"))"
   ]
  },
  {
   "cell_type": "code",
   "execution_count": 26,
   "metadata": {},
   "outputs": [
    {
     "data": {
      "text/markdown": [
       "At the end of the day, one can strengthen their connection with Allah and reflect on their faith through various spiritual practices. These include engaging in supplication and prayer to seek guidance and express gratitude, reflecting on the day's actions to ensure alignment with Islamic teachings, and seeking forgiveness for any shortcomings. Additionally, one should engage in devotional practices such as Dhikr and reading the Qur'an to maintain spiritual awareness and gratitude. Expressing humility and servitude, invoking blessings on the Prophet Muhammad and his progeny, and planning for spiritual growth are also important. These actions emphasize maintaining a strong spiritual connection, seeking divine mercy, and fostering personal and spiritual growth."
      ],
      "text/plain": [
       "<IPython.core.display.Markdown object>"
      ]
     },
     "metadata": {},
     "output_type": "display_data"
    }
   ],
   "source": [
    "response = query_engine.query(\n",
    "    \"What are actions one should perform at the end of the day?\"\n",
    ")\n",
    "display(Markdown(f\"{response.response}\"))"
   ]
  },
  {
   "cell_type": "code",
   "execution_count": 27,
   "metadata": {},
   "outputs": [
    {
     "data": {
      "text/markdown": [
       "The Islamic understanding of freedom is deeply rooted in spiritual growth and alignment with divine will, emphasizing submission to Allah as the path to true liberation. This perspective views freedom as liberation from worldly desires and achieving spiritual fulfillment through adherence to divine guidance and moral principles. In contrast, the Western understanding of freedom often emphasizes individual autonomy, personal rights, and the ability to make choices without external constraints, focusing on personal liberty and self-expression. While Islamic freedom prioritizes spiritual and moral alignment with divine will, Western freedom centers on individual autonomy and personal choice."
      ],
      "text/plain": [
       "<IPython.core.display.Markdown object>"
      ]
     },
     "metadata": {},
     "output_type": "display_data"
    }
   ],
   "source": [
    "response = query_engine.query(\n",
    "    \"What is the islamic understanding of freedom, contrasted with the western understanding?\"\n",
    ")\n",
    "display(Markdown(f\"{response.response}\"))"
   ]
  },
  {
   "cell_type": "code",
   "execution_count": 28,
   "metadata": {},
   "outputs": [
    {
     "data": {
      "text/markdown": [
       "The Islamic concept of freedom is intricately linked to divine justice and the existence of suffering in the world. In Islam, freedom is understood as the ability to choose between right and wrong, guided by Allah's teachings. This freedom is a test of faith, allowing individuals to demonstrate their moral responsibility and accountability, which are essential for divine justice. Suffering is seen as a test or trial that serves a greater purpose, providing opportunities for spiritual growth, patience, and resilience. It is a reminder of the transient nature of worldly life and encourages believers to seek spiritual fulfillment and align their actions with divine will. Ultimately, true freedom in Islam is found in submission to Allah, leading to spiritual enlightenment and fulfillment, while divine justice ensures that every action is accounted for, with ultimate justice served in the hereafter."
      ],
      "text/plain": [
       "<IPython.core.display.Markdown object>"
      ]
     },
     "metadata": {},
     "output_type": "display_data"
    }
   ],
   "source": [
    "response = query_engine.query(\n",
    "    \"How does the islamic concept of freedom relate to divine justice and why there is suffering in the world?\"\n",
    ")\n",
    "display(Markdown(f\"{response.response}\"))"
   ]
  }
 ],
 "metadata": {
  "kernelspec": {
   "display_name": ".venv",
   "language": "python",
   "name": "python3"
  },
  "language_info": {
   "codemirror_mode": {
    "name": "ipython",
    "version": 3
   },
   "file_extension": ".py",
   "mimetype": "text/x-python",
   "name": "python",
   "nbconvert_exporter": "python",
   "pygments_lexer": "ipython3",
   "version": "3.12.2"
  }
 },
 "nbformat": 4,
 "nbformat_minor": 2
}
