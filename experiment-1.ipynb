{
 "cells": [
  {
   "cell_type": "markdown",
   "metadata": {},
   "source": [
    "# GraphRAG Implementation with LlamaIndex - Experiment 1\n",
    "\n",
    "[GraphRAG - LlamaIndex](https://docs.llamaindex.ai/en/stable/examples/cookbooks/GraphRAG_v2/)"
   ]
  },
  {
   "cell_type": "markdown",
   "metadata": {},
   "source": [
    "# Setup API Key and LLM"
   ]
  },
  {
   "cell_type": "code",
   "execution_count": 1,
   "metadata": {},
   "outputs": [],
   "source": [
    "from config import Config\n",
    "from llama_index.llms.openai import OpenAI\n",
    "import os\n",
    "\n",
    "os.environ[\"OPENAI_API_KEY\"] = Config.OPENAI_API_KEY\n",
    "llm = OpenAI(model=\"gpt-4\")"
   ]
  },
  {
   "cell_type": "markdown",
   "metadata": {},
   "source": [
    "# Loading Data"
   ]
  },
  {
   "cell_type": "code",
   "execution_count": 8,
   "metadata": {},
   "outputs": [
    {
     "name": "stderr",
     "output_type": "stream",
     "text": [
      "e:\\Capelin\\graph-rag-llama-index\\graph-rag-llama-index\\.venv\\Lib\\site-packages\\ebooklib\\epub.py:1395: UserWarning: In the future version we will turn default option ignore_ncx to True.\n",
      "  warnings.warn('In the future version we will turn default option ignore_ncx to True.')\n",
      "e:\\Capelin\\graph-rag-llama-index\\graph-rag-llama-index\\.venv\\Lib\\site-packages\\ebooklib\\epub.py:1423: FutureWarning: This search incorrectly ignores the root element, and will be fixed in a future version.  If you rely on the current behaviour, change it to './/xmlns:rootfile[@media-type]'\n",
      "  for root_file in tree.findall('//xmlns:rootfile[@media-type]', namespaces={'xmlns': NAMESPACES['CONTAINERNS']}):\n"
     ]
    }
   ],
   "source": [
    "from loader import load_epubs_from_dir\n",
    "\n",
    "documents = load_epubs_from_dir(\"./data\")"
   ]
  },
  {
   "cell_type": "code",
   "execution_count": 9,
   "metadata": {},
   "outputs": [
    {
     "name": "stdout",
     "output_type": "stream",
     "text": [
      "Loaded 8 documents\n"
     ]
    }
   ],
   "source": [
    "print(f\"Loaded {len(documents)} documents\")"
   ]
  },
  {
   "cell_type": "code",
   "execution_count": 10,
   "metadata": {},
   "outputs": [],
   "source": [
    "from llama_index.core import Document\n",
    "\n",
    "new_documents = []\n",
    "for document in documents:\n",
    "    new_documents.append(Document(text=document.text)) # Convert to Document object\n"
   ]
  },
  {
   "cell_type": "markdown",
   "metadata": {},
   "source": [
    "# Create nodes/chunks from the text"
   ]
  },
  {
   "cell_type": "code",
   "execution_count": 11,
   "metadata": {},
   "outputs": [],
   "source": [
    "from llama_index.core.node_parser import SentenceSplitter\n",
    "\n",
    "splitter = SentenceSplitter(\n",
    "    chunk_size=1024,\n",
    "    chunk_overlap=20,\n",
    ")\n",
    "nodes = splitter.get_nodes_from_documents(documents)"
   ]
  },
  {
   "cell_type": "code",
   "execution_count": 12,
   "metadata": {},
   "outputs": [
    {
     "name": "stdout",
     "output_type": "stream",
     "text": [
      "Total number of nodes: 497\n"
     ]
    }
   ],
   "source": [
    "print(f\"Total number of nodes: {len(nodes)}\")"
   ]
  },
  {
   "cell_type": "markdown",
   "metadata": {},
   "source": [
    "Build `ProperGraphIndex` using `GraphRAGExtractor` and `GraphRAGStore`"
   ]
  },
  {
   "cell_type": "code",
   "execution_count": 13,
   "metadata": {},
   "outputs": [],
   "source": [
    "KG_TRIPLET_EXTRACT_TMPL = \"\"\"\n",
    "-Goal-\n",
    "Given a text document, identify all entities and their entity types from the text and all relationships among the identified entities.\n",
    "Given the text, extract up to {max_knowledge_triplets} entity-relation triplets.\n",
    "\n",
    "-Steps-\n",
    "1. Identify all entities. For each identified entity, extract the following information:\n",
    "- entity_name: Name of the entity, capitalized\n",
    "- entity_type: Type of the entity\n",
    "- entity_description: Comprehensive description of the entity's attributes and activities\n",
    "Format each entity as (\"entity\"$$$$\"\"$$$$\"\"$$$$\"\")\n",
    "\n",
    "2. From the entities identified in step 1, identify all pairs of (source_entity, target_entity) that are *clearly related* to each other.\n",
    "For each pair of related entities, extract the following information:\n",
    "- source_entity: name of the source entity, as identified in step 1\n",
    "- target_entity: name of the target entity, as identified in step 1\n",
    "- relation: relationship between source_entity and target_entity\n",
    "- relationship_description: explanation as to why you think the source entity and the target entity are related to each other\n",
    "\n",
    "Format each relationship as (\"relationship\"$$$$\"\"$$$$\"\"$$$$\"\"$$$$\"\")\n",
    "\n",
    "3. When finished, output.\n",
    "\n",
    "-Real Data-\n",
    "######################\n",
    "text: {text}\n",
    "######################\n",
    "output:\"\"\""
   ]
  },
  {
   "cell_type": "code",
   "execution_count": 14,
   "metadata": {},
   "outputs": [],
   "source": [
    "import re\n",
    "from graph_rag_extractor import GraphRAGExtractor\n",
    "from typing import Any\n",
    "\n",
    "entity_pattern = r'\\(\"entity\"\\$\\$\\$\\$\"(.+?)\"\\$\\$\\$\\$\"(.+?)\"\\$\\$\\$\\$\"(.+?)\"\\)'\n",
    "relationship_pattern = r'\\(\"relationship\"\\$\\$\\$\\$\"(.+?)\"\\$\\$\\$\\$\"(.+?)\"\\$\\$\\$\\$\"(.+?)\"\\$\\$\\$\\$\"(.+?)\"\\)'\n",
    "\n",
    "\n",
    "def parse_fn(response_str: str) -> Any:\n",
    "    entities = re.findall(entity_pattern, response_str)\n",
    "    relationships = re.findall(relationship_pattern, response_str)\n",
    "    return entities, relationships\n",
    "\n",
    "\n",
    "kg_extractor = GraphRAGExtractor(\n",
    "    llm=llm,\n",
    "    extract_prompt=KG_TRIPLET_EXTRACT_TMPL,\n",
    "    max_paths_per_chunk=2,\n",
    "    parse_fn=parse_fn,\n",
    ")"
   ]
  },
  {
   "cell_type": "markdown",
   "metadata": {},
   "source": [
    "# Docker Setup And Neo4J setup"
   ]
  },
  {
   "cell_type": "markdown",
   "metadata": {},
   "source": [
    "```bash\n",
    "docker run \\\n",
    "    -p 7474:7474 -p 7687:7687 \\\n",
    "    -v $PWD/data:/data -v $PWD/plugins:/plugins \\\n",
    "    --name neo4j-apoc \\\n",
    "    -e NEO4J_apoc_export_file_enabled=true \\\n",
    "    -e NEO4J_apoc_import_file_enabled=true \\\n",
    "    -e NEO4J_apoc_import_file_use__neo4j__config=true \\\n",
    "    -e NEO4JLABS_PLUGINS=\\[\\\"apoc\\\"\\] \\\n",
    "    neo4j:latest\n",
    "```"
   ]
  },
  {
   "cell_type": "code",
   "execution_count": 15,
   "metadata": {},
   "outputs": [
    {
     "name": "stderr",
     "output_type": "stream",
     "text": [
      "e:\\Capelin\\graph-rag-llama-index\\graph-rag-llama-index\\.venv\\Lib\\site-packages\\tqdm\\auto.py:21: TqdmWarning: IProgress not found. Please update jupyter and ipywidgets. See https://ipywidgets.readthedocs.io/en/stable/user_install.html\n",
      "  from .autonotebook import tqdm as notebook_tqdm\n"
     ]
    }
   ],
   "source": [
    "from graph_rag_store import GraphRAGStore\n",
    "\n",
    "# Note: used to be `Neo4jPGStore`\n",
    "graph_store = GraphRAGStore(\n",
    "    username=\"neo4j\", password=\"admin123\", url=\"bolt://localhost:7687\"\n",
    ")"
   ]
  },
  {
   "cell_type": "code",
   "execution_count": 16,
   "metadata": {},
   "outputs": [
    {
     "name": "stderr",
     "output_type": "stream",
     "text": [
      "Extracting paths from text: 100%|██████████| 497/497 [40:56<00:00,  4.94s/it] \n",
      "Generating embeddings: 100%|██████████| 5/5 [00:05<00:00,  1.16s/it]\n",
      "Generating embeddings: 100%|██████████| 29/29 [00:12<00:00,  2.29it/s]\n"
     ]
    }
   ],
   "source": [
    "from llama_index.core import PropertyGraphIndex\n",
    "\n",
    "index = PropertyGraphIndex(\n",
    "    nodes=nodes,\n",
    "    kg_extractors=[kg_extractor],\n",
    "    property_graph_store=graph_store,\n",
    "    show_progress=True,\n",
    ")"
   ]
  },
  {
   "cell_type": "code",
   "execution_count": 17,
   "metadata": {},
   "outputs": [
    {
     "data": {
      "text/plain": [
       "[EntityNode(label='Person', embedding=None, properties={'id': 'Ali', 'author': 'Yousuf N. Lalljee - XKP', 'title': 'Ali The Magnificent ', 'entity_description': 'Ali is a significant figure in Islam, known for his wisdom and devotion. He is considered the best human being to have ever lived after Prophet Muhammad. He is not just an Imam for Shia Muslims, but for all of mankind.', 'embeddings': 'openaiembeddings', 'description': 'This Book is a Must read to every Muslim and non-Muslim to learn more about a man who not only lived his life to better Islam, but to better humanity also. He was not an Imam just for Shia Muslims, but for all of mankind. He is undoubtedly the best human being to have ever lived after Prophet Muhammad (saw) with such an elevated status that the angels themselves know of his status.\\n-\\nISLAMICMOBILITY.COM', 'language': 'en', 'type': 'epub', 'triplet_source_id': '6789770d-a069-4624-a758-ed87c4d13ce7'}, name='Ali'),\n",
       " Relation(label='Devotion', source_id='Ali', target_id='Prophet Muhammad', properties={'author': 'Yousuf N. Lalljee - XKP', 'title': 'Ali The Magnificent ', 'embeddings': 'openaiembeddings', 'description': 'This Book is a Must read to every Muslim and non-Muslim to learn more about a man who not only lived his life to better Islam, but to better humanity also. He was not an Imam just for Shia Muslims, but for all of mankind. He is undoubtedly the best human being to have ever lived after Prophet Muhammad (saw) with such an elevated status that the angels themselves know of his status.\\n-\\nISLAMICMOBILITY.COM', 'language': 'en', 'type': 'epub', 'relationship_description': \"Ali showed immense devotion to Prophet Muhammad, risking his life for the Prophet's safety and following his directions in returning properties and building a mosque in Medina.\", 'triplet_source_id': '19fdbefb-7482-43e8-bfc3-7b5dc435583d'}),\n",
       " EntityNode(label='Person', embedding=None, properties={'id': 'Prophet Muhammad', 'author': 'Majid Massoudi - XKP', 'title': \"The Sufferings of Amirol Mo'minin Ali ibn Abi Talib (A.S.)\", 'entity_description': 'The Prophet of Islam, who was the target of a plot by the tribes of Quraysh to be killed. He was warned of this plot by Gabriel and left Mecca, asking Ali to sleep in his bed as a decoy.', 'embeddings': 'openaiembeddings', 'description': 'About the sufferings during the life and Martyrdom of Imam Ali (AS).\\n\\nText taken from rafed.net\\n\\n- 14five.com', 'language': 'en', 'type': 'epub', 'triplet_source_id': 'e856f80a-1cfd-4ce2-bd05-6d399f122ba2'}, name='Prophet Muhammad')]"
      ]
     },
     "execution_count": 17,
     "metadata": {},
     "output_type": "execute_result"
    }
   ],
   "source": [
    "index.property_graph_store.get_triplets()[10]"
   ]
  },
  {
   "cell_type": "code",
   "execution_count": 18,
   "metadata": {},
   "outputs": [
    {
     "data": {
      "text/plain": [
       "{'id': 'Ali',\n",
       " 'author': 'Yousuf N. Lalljee - XKP',\n",
       " 'title': 'Ali The Magnificent ',\n",
       " 'entity_description': 'Ali is a significant figure in Islam, known for his wisdom and devotion. He is considered the best human being to have ever lived after Prophet Muhammad. He is not just an Imam for Shia Muslims, but for all of mankind.',\n",
       " 'embeddings': 'openaiembeddings',\n",
       " 'description': 'This Book is a Must read to every Muslim and non-Muslim to learn more about a man who not only lived his life to better Islam, but to better humanity also. He was not an Imam just for Shia Muslims, but for all of mankind. He is undoubtedly the best human being to have ever lived after Prophet Muhammad (saw) with such an elevated status that the angels themselves know of his status.\\n-\\nISLAMICMOBILITY.COM',\n",
       " 'language': 'en',\n",
       " 'type': 'epub',\n",
       " 'triplet_source_id': '6789770d-a069-4624-a758-ed87c4d13ce7'}"
      ]
     },
     "execution_count": 18,
     "metadata": {},
     "output_type": "execute_result"
    }
   ],
   "source": [
    "index.property_graph_store.get_triplets()[10][0].properties"
   ]
  },
  {
   "cell_type": "code",
   "execution_count": 19,
   "metadata": {},
   "outputs": [
    {
     "data": {
      "text/plain": [
       "{'author': 'Yousuf N. Lalljee - XKP',\n",
       " 'title': 'Ali The Magnificent ',\n",
       " 'embeddings': 'openaiembeddings',\n",
       " 'description': 'This Book is a Must read to every Muslim and non-Muslim to learn more about a man who not only lived his life to better Islam, but to better humanity also. He was not an Imam just for Shia Muslims, but for all of mankind. He is undoubtedly the best human being to have ever lived after Prophet Muhammad (saw) with such an elevated status that the angels themselves know of his status.\\n-\\nISLAMICMOBILITY.COM',\n",
       " 'language': 'en',\n",
       " 'type': 'epub',\n",
       " 'relationship_description': \"Ali showed immense devotion to Prophet Muhammad, risking his life for the Prophet's safety and following his directions in returning properties and building a mosque in Medina.\",\n",
       " 'triplet_source_id': '19fdbefb-7482-43e8-bfc3-7b5dc435583d'}"
      ]
     },
     "execution_count": 19,
     "metadata": {},
     "output_type": "execute_result"
    }
   ],
   "source": [
    "index.property_graph_store.get_triplets()[10][1].properties"
   ]
  },
  {
   "cell_type": "markdown",
   "metadata": {},
   "source": [
    "# Build Communities"
   ]
  },
  {
   "cell_type": "code",
   "execution_count": 21,
   "metadata": {},
   "outputs": [],
   "source": [
    "index.property_graph_store.build_communities()"
   ]
  },
  {
   "cell_type": "markdown",
   "metadata": {},
   "source": [
    "# Create QueryEngine"
   ]
  },
  {
   "cell_type": "code",
   "execution_count": 23,
   "metadata": {},
   "outputs": [],
   "source": [
    "from graph_query_engine import GraphRAGQueryEngine\n",
    "\n",
    "query_engine = GraphRAGQueryEngine(\n",
    "    graph_store=index.property_graph_store,\n",
    "    llm=llm,\n",
    "    index=index,\n",
    "    similarity_top_k=5,\n",
    ")"
   ]
  },
  {
   "cell_type": "markdown",
   "metadata": {},
   "source": [
    "# Querying"
   ]
  },
  {
   "cell_type": "code",
   "execution_count": 25,
   "metadata": {},
   "outputs": [
    {
     "data": {
      "text/markdown": [
       "Ali, also known as Ali Ibn Abi Talib, is a significant figure in Islamic history, known for his close bond and trust with Prophet Muhammad. He was entrusted as the Viceregent during the expedition of Tabuk and married Prophet Muhammad's daughter, Fatima. Ali was a central figure in various relationships, conflicts, alliances, and mentorships, interacting with key historical figures like Hasan, Husain, and Ayesha. He served as a Caliph, a military leader, and protector of Zimmis, and was involved in significant events such as the Battle of the Camel 'Jamal' and the aftermath of Osman's murder. Despite facing opposition and conspiracy, Ali demonstrated devotion to God through acts of charity, prayer, and his scholarly contributions, such as compiling the Quran. His actions and beliefs have earned him admiration and respect from both Muslims and non-Muslims alike."
      ],
      "text/plain": [
       "<IPython.core.display.Markdown object>"
      ]
     },
     "metadata": {},
     "output_type": "display_data"
    }
   ],
   "source": [
    "from IPython.display import Markdown\n",
    "\n",
    "response = query_engine.query(\n",
    "    \"Who is Ali?\"\n",
    ")\n",
    "display(Markdown(f\"{response.response}\"))"
   ]
  }
 ],
 "metadata": {
  "kernelspec": {
   "display_name": ".venv",
   "language": "python",
   "name": "python3"
  },
  "language_info": {
   "codemirror_mode": {
    "name": "ipython",
    "version": 3
   },
   "file_extension": ".py",
   "mimetype": "text/x-python",
   "name": "python",
   "nbconvert_exporter": "python",
   "pygments_lexer": "ipython3",
   "version": "3.12.2"
  }
 },
 "nbformat": 4,
 "nbformat_minor": 2
}
